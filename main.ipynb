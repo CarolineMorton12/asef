{
 "cells": [
  {
   "cell_type": "code",
   "execution_count": 151,
   "id": "initial_id",
   "metadata": {
    "collapsed": true,
    "ExecuteTime": {
     "end_time": "2024-07-16T11:38:54.219609Z",
     "start_time": "2024-07-16T11:38:53.823080Z"
    }
   },
   "outputs": [
    {
     "name": "stdout",
     "output_type": "stream",
     "text": [
      "    Q1a Q1b Q1c Q1d Q1e Q1f Q1g Q1h Q1i Q1j  ... Q64e Q64f Q64g Q64h Q64i  \\\n",
      "1     1   0   1   1   0   1   0   1   1   1  ...   -3   -3   -3   -3   -3   \n",
      "2     0   0   0   1   0   1   1   1   1   0  ...    0    0    0    0    0   \n",
      "3     0   0   1   1   1   1   0   1   1   0  ...   -2   -2   -2   -2   -2   \n",
      "4     1   1   1   1   1   1   0   1   0   0  ...    0    0    0    0    0   \n",
      "5     1   1   1   1   1   1   1   1   1   1  ...    0    0    0    0    0   \n",
      "..   ..  ..  ..  ..  ..  ..  ..  ..  ..  ..  ...  ...  ...  ...  ...  ...   \n",
      "196   1   1   0   1   1   1   1   1   1   0  ...   -2   -2   -2   -2   -2   \n",
      "197   1   1   1   0   1   1   0   1   1   0  ...   -2   -2   -2   -2   -2   \n",
      "198   1   0   0   0   1   1   1   1   1   1  ...    0    0    0    1    1   \n",
      "199   1   1   1   1   1   1   0   1   1   1  ...    1    0    1    1    0   \n",
      "200   0   1   1   1   1   0   0   0   1   0  ...    0    0    1    0    0   \n",
      "\n",
      "    Q64j Q64k Q64l          Q64l_text  \\\n",
      "1     -3   -3   -3                 -3   \n",
      "2      0    0    1  In a few years...   \n",
      "3     -2   -2   -2                 -2   \n",
      "4      0    0    0                 -2   \n",
      "5      0    0    0                 -2   \n",
      "..   ...  ...  ...                ...   \n",
      "196   -2   -2   -2                 -2   \n",
      "197   -2   -2   -2                 -2   \n",
      "198    0    1    0                 -2   \n",
      "199    0    0    0                 -2   \n",
      "200    0    0    0                 -2   \n",
      "\n",
      "                                                   Q65  \n",
      "1                                                   -3  \n",
      "2                                                   -2  \n",
      "3    It is not a specific individual interest I hol...  \n",
      "4                                                   -2  \n",
      "5                                                   -2  \n",
      "..                                                 ...  \n",
      "196                     I am busy with other projects.  \n",
      "197                       Unproductive time investment  \n",
      "198                                                 -2  \n",
      "199                                                 -2  \n",
      "200                                                 -2  \n",
      "\n",
      "[200 rows x 269 columns]\n"
     ]
    }
   ],
   "source": [
    "# Import Data\n",
    "import pandas as pd\n",
    "import numpy as np\n",
    "dataFrame = pd.read_excel(\"CRP2021_raw_data.xlsx\")\n",
    "# Delete 2nd row (question)\n",
    "data = dataFrame.drop([0])\n",
    "print(data)"
   ]
  },
  {
   "cell_type": "code",
   "execution_count": 152,
   "outputs": [],
   "source": [
    "# remove qualitative data (save NLP for later if time)\n",
    "# Replace negative numbers with null values\n",
    "# Replace negative numbers with null values\n",
    "# Parse all data as numbers\n",
    "# Parse all data as numbers\n",
    "data = data.drop(columns=[\"Q10_11_text\", \"Q11_9_text\", \"Q12l_text\", \"Q13_6_text\", \"Q17_7_text\", \"Q19g_text\", \"Q67_7_text\", \"Q21g_text\", \"Q23h_text\", \"Q24a\", \"Q24b\", \"Q24c\", \"Q24d\", \"Q26k_text\", \"Q27a\", \"Q27b\", \"Q27c\", \"Q27d\", \"Q29h_text\", \"Q30a\", \"Q30b\", \"Q30c\", \"Q30d\", \"Q32j_text\", \"Q33a\", \"Q33b\", \"Q33c\", \"Q33d\", \"Q40a\", \"Q43h_text\", \"Q44a\", \"Q44b\", \"Q46l_text\", \"Q47a\", \"Q47b\", \"Q50a\", \"Q50b\", \"Q50c\", \"Q50d\", \"Q51a\", \"Q51b\", \"Q51c\", \"Q51d\", \"Q52\", \"Q53\", \"Q53\", \"Q55l_text\", \"Q56\", \"Q58_2_text\", \"Q59l_text\", \"Q60\", \"Q62l_text\", \"Q64l_text\", \"Q65\"])"
   ],
   "metadata": {
    "collapsed": false,
    "ExecuteTime": {
     "end_time": "2024-07-16T11:38:54.220020Z",
     "start_time": "2024-07-16T11:38:54.189503Z"
    }
   },
   "id": "ae0f04ac0dcd0629"
  },
  {
   "cell_type": "code",
   "execution_count": 159,
   "outputs": [
    {
     "data": {
      "text/plain": "     Q1a  Q1b  Q1c  Q1d  Q1e  Q1f  Q1g  Q1h  Q1i  Q1j  ...  Q64c  Q64d  Q64e  \\\n1      1    0    1    1    0    1    0    1    1    1  ...     0     0     0   \n2      0    0    0    1    0    1    1    1    1    0  ...     0     0     0   \n3      0    0    1    1    1    1    0    1    1    0  ...     0     0     0   \n4      1    1    1    1    1    1    0    1    0    0  ...     0     0     0   \n5      1    1    1    1    1    1    1    1    1    1  ...     1     0     0   \n..   ...  ...  ...  ...  ...  ...  ...  ...  ...  ...  ...   ...   ...   ...   \n196    1    1    0    1    1    1    1    1    1    0  ...     0     0     0   \n197    1    1    1    0    1    1    0    1    1    0  ...     0     0     0   \n198    1    0    0    0    1    1    1    1    1    1  ...     1     0     0   \n199    1    1    1    1    1    1    0    1    1    1  ...     0     1     1   \n200    0    1    1    1    1    0    0    0    1    0  ...     0     0     0   \n\n     Q64f  Q64g  Q64h  Q64i  Q64j  Q64k  Q64l  \n1       0     0     0     0     0     0     0  \n2       0     0     0     0     0     0     1  \n3       0     0     0     0     0     0     0  \n4       0     0     0     0     0     0     0  \n5       0     0     0     0     0     0     0  \n..    ...   ...   ...   ...   ...   ...   ...  \n196     0     0     0     0     0     0     0  \n197     0     0     0     0     0     0     0  \n198     0     0     1     1     0     1     0  \n199     0     1     1     0     0     0     0  \n200     0     1     0     0     0     0     0  \n\n[200 rows x 216 columns]",
      "text/html": "<div>\n<style scoped>\n    .dataframe tbody tr th:only-of-type {\n        vertical-align: middle;\n    }\n\n    .dataframe tbody tr th {\n        vertical-align: top;\n    }\n\n    .dataframe thead th {\n        text-align: right;\n    }\n</style>\n<table border=\"1\" class=\"dataframe\">\n  <thead>\n    <tr style=\"text-align: right;\">\n      <th></th>\n      <th>Q1a</th>\n      <th>Q1b</th>\n      <th>Q1c</th>\n      <th>Q1d</th>\n      <th>Q1e</th>\n      <th>Q1f</th>\n      <th>Q1g</th>\n      <th>Q1h</th>\n      <th>Q1i</th>\n      <th>Q1j</th>\n      <th>...</th>\n      <th>Q64c</th>\n      <th>Q64d</th>\n      <th>Q64e</th>\n      <th>Q64f</th>\n      <th>Q64g</th>\n      <th>Q64h</th>\n      <th>Q64i</th>\n      <th>Q64j</th>\n      <th>Q64k</th>\n      <th>Q64l</th>\n    </tr>\n  </thead>\n  <tbody>\n    <tr>\n      <th>1</th>\n      <td>1</td>\n      <td>0</td>\n      <td>1</td>\n      <td>1</td>\n      <td>0</td>\n      <td>1</td>\n      <td>0</td>\n      <td>1</td>\n      <td>1</td>\n      <td>1</td>\n      <td>...</td>\n      <td>0</td>\n      <td>0</td>\n      <td>0</td>\n      <td>0</td>\n      <td>0</td>\n      <td>0</td>\n      <td>0</td>\n      <td>0</td>\n      <td>0</td>\n      <td>0</td>\n    </tr>\n    <tr>\n      <th>2</th>\n      <td>0</td>\n      <td>0</td>\n      <td>0</td>\n      <td>1</td>\n      <td>0</td>\n      <td>1</td>\n      <td>1</td>\n      <td>1</td>\n      <td>1</td>\n      <td>0</td>\n      <td>...</td>\n      <td>0</td>\n      <td>0</td>\n      <td>0</td>\n      <td>0</td>\n      <td>0</td>\n      <td>0</td>\n      <td>0</td>\n      <td>0</td>\n      <td>0</td>\n      <td>1</td>\n    </tr>\n    <tr>\n      <th>3</th>\n      <td>0</td>\n      <td>0</td>\n      <td>1</td>\n      <td>1</td>\n      <td>1</td>\n      <td>1</td>\n      <td>0</td>\n      <td>1</td>\n      <td>1</td>\n      <td>0</td>\n      <td>...</td>\n      <td>0</td>\n      <td>0</td>\n      <td>0</td>\n      <td>0</td>\n      <td>0</td>\n      <td>0</td>\n      <td>0</td>\n      <td>0</td>\n      <td>0</td>\n      <td>0</td>\n    </tr>\n    <tr>\n      <th>4</th>\n      <td>1</td>\n      <td>1</td>\n      <td>1</td>\n      <td>1</td>\n      <td>1</td>\n      <td>1</td>\n      <td>0</td>\n      <td>1</td>\n      <td>0</td>\n      <td>0</td>\n      <td>...</td>\n      <td>0</td>\n      <td>0</td>\n      <td>0</td>\n      <td>0</td>\n      <td>0</td>\n      <td>0</td>\n      <td>0</td>\n      <td>0</td>\n      <td>0</td>\n      <td>0</td>\n    </tr>\n    <tr>\n      <th>5</th>\n      <td>1</td>\n      <td>1</td>\n      <td>1</td>\n      <td>1</td>\n      <td>1</td>\n      <td>1</td>\n      <td>1</td>\n      <td>1</td>\n      <td>1</td>\n      <td>1</td>\n      <td>...</td>\n      <td>1</td>\n      <td>0</td>\n      <td>0</td>\n      <td>0</td>\n      <td>0</td>\n      <td>0</td>\n      <td>0</td>\n      <td>0</td>\n      <td>0</td>\n      <td>0</td>\n    </tr>\n    <tr>\n      <th>...</th>\n      <td>...</td>\n      <td>...</td>\n      <td>...</td>\n      <td>...</td>\n      <td>...</td>\n      <td>...</td>\n      <td>...</td>\n      <td>...</td>\n      <td>...</td>\n      <td>...</td>\n      <td>...</td>\n      <td>...</td>\n      <td>...</td>\n      <td>...</td>\n      <td>...</td>\n      <td>...</td>\n      <td>...</td>\n      <td>...</td>\n      <td>...</td>\n      <td>...</td>\n      <td>...</td>\n    </tr>\n    <tr>\n      <th>196</th>\n      <td>1</td>\n      <td>1</td>\n      <td>0</td>\n      <td>1</td>\n      <td>1</td>\n      <td>1</td>\n      <td>1</td>\n      <td>1</td>\n      <td>1</td>\n      <td>0</td>\n      <td>...</td>\n      <td>0</td>\n      <td>0</td>\n      <td>0</td>\n      <td>0</td>\n      <td>0</td>\n      <td>0</td>\n      <td>0</td>\n      <td>0</td>\n      <td>0</td>\n      <td>0</td>\n    </tr>\n    <tr>\n      <th>197</th>\n      <td>1</td>\n      <td>1</td>\n      <td>1</td>\n      <td>0</td>\n      <td>1</td>\n      <td>1</td>\n      <td>0</td>\n      <td>1</td>\n      <td>1</td>\n      <td>0</td>\n      <td>...</td>\n      <td>0</td>\n      <td>0</td>\n      <td>0</td>\n      <td>0</td>\n      <td>0</td>\n      <td>0</td>\n      <td>0</td>\n      <td>0</td>\n      <td>0</td>\n      <td>0</td>\n    </tr>\n    <tr>\n      <th>198</th>\n      <td>1</td>\n      <td>0</td>\n      <td>0</td>\n      <td>0</td>\n      <td>1</td>\n      <td>1</td>\n      <td>1</td>\n      <td>1</td>\n      <td>1</td>\n      <td>1</td>\n      <td>...</td>\n      <td>1</td>\n      <td>0</td>\n      <td>0</td>\n      <td>0</td>\n      <td>0</td>\n      <td>1</td>\n      <td>1</td>\n      <td>0</td>\n      <td>1</td>\n      <td>0</td>\n    </tr>\n    <tr>\n      <th>199</th>\n      <td>1</td>\n      <td>1</td>\n      <td>1</td>\n      <td>1</td>\n      <td>1</td>\n      <td>1</td>\n      <td>0</td>\n      <td>1</td>\n      <td>1</td>\n      <td>1</td>\n      <td>...</td>\n      <td>0</td>\n      <td>1</td>\n      <td>1</td>\n      <td>0</td>\n      <td>1</td>\n      <td>1</td>\n      <td>0</td>\n      <td>0</td>\n      <td>0</td>\n      <td>0</td>\n    </tr>\n    <tr>\n      <th>200</th>\n      <td>0</td>\n      <td>1</td>\n      <td>1</td>\n      <td>1</td>\n      <td>1</td>\n      <td>0</td>\n      <td>0</td>\n      <td>0</td>\n      <td>1</td>\n      <td>0</td>\n      <td>...</td>\n      <td>0</td>\n      <td>0</td>\n      <td>0</td>\n      <td>0</td>\n      <td>1</td>\n      <td>0</td>\n      <td>0</td>\n      <td>0</td>\n      <td>0</td>\n      <td>0</td>\n    </tr>\n  </tbody>\n</table>\n<p>200 rows × 216 columns</p>\n</div>"
     },
     "execution_count": 159,
     "metadata": {},
     "output_type": "execute_result"
    }
   ],
   "source": [
    "# Parse all data as numbers\n",
    "for column in data.columns:\n",
    "    data[column] = pd.to_numeric(data[column])\n",
    "# Replace negative numbers with null values\n",
    "data.clip(lower=0)"
   ],
   "metadata": {
    "collapsed": false,
    "ExecuteTime": {
     "end_time": "2024-07-16T11:40:33.489735Z",
     "start_time": "2024-07-16T11:40:33.453246Z"
    }
   },
   "id": "2b1b33359cadf32d"
  },
  {
   "cell_type": "code",
   "execution_count": 154,
   "outputs": [],
   "source": [
    "# Ensure all booleans are mapped the same way (some are 0/1 others are 1/2)"
   ],
   "metadata": {
    "collapsed": false,
    "ExecuteTime": {
     "end_time": "2024-07-16T11:38:54.220223Z",
     "start_time": "2024-07-16T11:38:54.210028Z"
    }
   },
   "id": "59ec6d823a5a3230"
  },
  {
   "cell_type": "code",
   "execution_count": 155,
   "outputs": [],
   "source": [
    "# replace booleans with pandas booleans"
   ],
   "metadata": {
    "collapsed": false,
    "ExecuteTime": {
     "end_time": "2024-07-16T11:38:54.220282Z",
     "start_time": "2024-07-16T11:38:54.212300Z"
    }
   },
   "id": "5be962bba45e500b"
  },
  {
   "cell_type": "code",
   "execution_count": 156,
   "outputs": [],
   "source": [
    "# Flatten multi-select columns into one CSV column"
   ],
   "metadata": {
    "collapsed": false,
    "ExecuteTime": {
     "end_time": "2024-07-16T11:38:54.220338Z",
     "start_time": "2024-07-16T11:38:54.214772Z"
    }
   },
   "id": "e0834ed8c341f035"
  },
  {
   "cell_type": "code",
   "execution_count": 157,
   "outputs": [],
   "source": [
    "# relate discrete data with survey answers"
   ],
   "metadata": {
    "collapsed": false,
    "ExecuteTime": {
     "end_time": "2024-07-16T11:38:54.220378Z",
     "start_time": "2024-07-16T11:38:54.216748Z"
    }
   },
   "id": "e95d61405c20c5f1"
  }
 ],
 "metadata": {
  "kernelspec": {
   "display_name": "Python 3",
   "language": "python",
   "name": "python3"
  },
  "language_info": {
   "codemirror_mode": {
    "name": "ipython",
    "version": 2
   },
   "file_extension": ".py",
   "mimetype": "text/x-python",
   "name": "python",
   "nbconvert_exporter": "python",
   "pygments_lexer": "ipython2",
   "version": "2.7.6"
  }
 },
 "nbformat": 4,
 "nbformat_minor": 5
}
