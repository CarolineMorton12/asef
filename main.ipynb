{
 "cells": [
  {
   "cell_type": "code",
   "execution_count": 128,
   "id": "initial_id",
   "metadata": {
    "collapsed": true,
    "ExecuteTime": {
     "end_time": "2024-07-26T17:16:51.359070Z",
     "start_time": "2024-07-26T17:16:50.762813Z"
    }
   },
   "outputs": [
    {
     "data": {
      "text/plain": "['Cooking Slovene national dishes',\n 'Reading Slovene books',\n 'Following current affairs from Slovenia',\n 'Attending activities in Slovenian communities and organizations',\n 'Knowledge of Slovenian language',\n 'Visits to Slovenia',\n 'Promotion of Slovenia to the country of my current residence',\n 'Preserving Slovenian traditions',\n 'Knowledge of Slovenian history',\n 'Rooting for Slovenian sports teams',\n 'Buying and using Slovenian products',\n 'Gender:',\n 'Year of birth:',\n 'Country of current residence',\n 'Were you born in Slovenia?',\n 'In which year did you move out of Slovenia?',\n 'What is your personal status?',\n 'Do you have children?',\n 'What is the highest level of education that you have completed so far?',\n 'Field of education',\n 'Other:',\n 'Current employment status',\n 'Other:',\n 'VTIS – Društvo v tujini izobraženih Slovencev',\n 'ASEF – American Slovenian Education Foundation',\n 'Mlada akademija – Društvo doktorskih študentov ali raziskovalcev na začetku kariere',\n 'SMUL – Svetovna mreža Univerze v Ljubljani',\n 'KSKJ – American Slovenian Catholic Union',\n 'SNPJ – Slovene National Benefit Society',\n 'SSS – Society for Slovene Studies',\n 'Slovenian-American Business Association',\n 'VSKO – All-Slovenian Cultural Committee',\n 'Canadian Slovenian Historical Society',\n 'The Canadian Slovenian Chamber of Commerce',\n 'Other organizations in my country of residence that connect Slovenians abroad. Which one?',\n 'Other organizations in my country of residence that connect Slovenians abroad. Which one?',\n 'I am not a part of any organization.',\n 'What career level were you at when you decided to move abroad? If you were not born in Slovenia, under the category other write \"I wasn\\'t born in Slovenia\".',\n 'Other:',\n 'Intellectual (e.g., academics, researchers, those holding a PhD)',\n 'Cultural figure',\n 'Businessman / businesswoman, entrepreneur',\n 'None of the above',\n np.float64(nan),\n 'Education',\n 'Scientific-research sphere',\n 'Culture',\n 'Art',\n 'Economy and entrepreneurship',\n 'Tourism',\n 'Why do you consider the collaboration between your country of current residence and Slovenia not prospective? What do you think Slovenia lacks the most in order to establish and strengthen collaborations?',\n 'Other:',\n 'Until now, did you professionally collaborate with Slovenia from abroad?',\n 'By helping to establish connections with organizations/companies in the USA/Canada.',\n 'By defending Slovenian interests in front of the USA/Canadian government.',\n 'By providing access to sources of information (literature, databases etc.).',\n 'With the help to reach agreements.',\n 'By presenting examples of good practices in USA/Canada in front of a Slovenian audience.',\n 'By actively participating in slovenian organizations.',\n 'Other:',\n 'Other:',\n 'Would you like to professionally collaborate with Slovenia in the future? If you already do, do you want to collaborate in any additional way or more intensively?',\n 'Why not?',\n 'Other:',\n 'By helping to establish connections with organizations/companies in the USA/Canada.',\n 'By defending Slovenian interests in front of the USA/Canadian government.',\n 'By providing access to sources of information (literature, databases etc.).',\n 'With the help to reach agreements.',\n 'By presenting examples of good practices in the USA/Canada in front of a Slovenian audience.',\n 'By actively participating in Slovenian organizations.',\n 'Other:',\n 'Other:',\n 'Do you think Slovenia works enough to promote collaboration and networking of Slovenians abroad?',\n 'By providing financial support to organizations that work with this purpose.',\n 'By providing “moral” support to organizations that work with this purpose.',\n 'By providing adequate information support about the possibilities of collaboration and networking of Slovenians abroad on different fields.',\n 'By supporting the organization of events, which enable networking of Slovenians abroad.',\n 'By actively participating in the events that enable networking of Slovenians around the world.',\n 'By establishing information-communication centers for the purpose of collaboration and networking of Slovenians abroad.',\n 'By establishing a database of existing organizations and institutions that work on collaboration and networking of Slovenians abroad. The database should be kept up-to-date with activities of such organizations and existing possibilities of collaborations that they offer.',\n 'Other:',\n 'Other:',\n 'Vpišite besedilo',\n 'Vpišite besedilo',\n 'Vpišite besedilo',\n 'Vpišite besedilo',\n 'Do you think Slovenia works enough to form connections between Slovenians abroad and their homeland?',\n 'By providing financial support to organizations that work with this purpose.',\n 'By providing “moral” support to organizations that work with this purpose.',\n 'By providing adequate information support about the possibilities of collaboration with Slovenia on different fields.',\n 'By supporting the organization of events that open up opportunities for Slovenians abroad to collaborate with their homeland.',\n 'By actively participating in the events that open up opportunities for Slovenians abroad to collaborate with their homeland.',\n 'By establishing information-communication centers for the purpose of forming and strengthening collaborations between Slovenians abroad and their homeland.',\n 'By establishing a database that keeps track of Slovenians abroad. The database should also include information about possible collaborations with Slovenia, which should be communicated transparently.',\n 'By supporting the academic exchange of knowledge, for example by financing joint research of Slovenian and foreign universities, opening up the possibilities of guest lectures at Slovenian universities etc.',\n 'By offering the possibility of a (partly) financed visit of the homeland to a specific number of individuals every year or by offering financial help to organizations that already organize such visits.',\n 'By providing (financial) support to individuals who want to found a company with a branch in Slovenia.',\n 'Other:',\n 'Other:',\n 'Vpišite besedilo',\n 'Vpišite besedilo',\n 'Vpišite besedilo',\n 'Vpišite besedilo',\n 'Do you think that Slovenia works enough to promote collaboration and networking of Slovenian intellectuals abroad?',\n 'By providing financial support to organizations that work with this purpose.',\n 'By providing “moral” support to organizations that work with this purpose.',\n 'By providing adequate information support about the possibilities of collaboration options for Slovenian intellectuals abroad (e.g., in the field of science and education).',\n 'By supporting the organization of events, which enable networking of Slovenian intellectuals abroad.',\n '\\xa0By actively participating in the events that enable networking of Slovenian intellectuals around the world.',\n 'By establishing information-communication centers for the purpose of collaboration and networking of Slovenian intellectuals abroad.',\n 'By establishing a database of existing organizations and institutions that work on collaboration and networking of Slovenian intellectuals abroad. The database should be kept up-to-date with activities of such organizations and existing possibilities of collaborations that they offer.',\n 'Other:',\n 'Other:',\n 'Vpišite besedilo',\n 'Vpišite besedilo',\n 'Vpišite besedilo',\n 'Vpišite besedilo',\n 'Do you think Slovenia works enough to form connections between Slovenian intellectuals abroad and their homeland?',\n 'By providing financial support to organizations that work with this purpose.',\n 'By providing “moral” support to organizations that work with this purpose.',\n 'By providing adequate information support about the possibilities of collaboration with Slovenia in the scientific and educational fields.',\n 'By supporting the organization of events that open up opportunities for Slovenian intellectuals abroad to collaborate with their homeland.',\n 'By actively participating in the events that open up opportunities for Slovenian intellectuals abroad to collaborate with their homeland.',\n 'By establishing information-communication centers for the purpose of forming and strengthening collaborations between Slovenian intellectuals abroad and their homeland.',\n 'By establishing a database that keeps track of Slovenian intellectuals abroad. The database should also include information about possible collaborations with Slovenia, which should be communicated transparently.',\n 'By supporting the academic exchange of knowledge, for example by financing joint research of Slovenian and foreign universities, opening up the possibilities of guest lectures at Slovenian universities etc.',\n 'By offering the possibility of a (partly) financed visit of the homeland for scientific-research purposes to a specific number of individuals every year or by offering financial help to organizations that already organize such visits.',\n 'Other:',\n 'Other:',\n 'Vpišite besedilo',\n 'Vpišite besedilo',\n 'Vpišite besedilo',\n 'Vpišite besedilo',\n 'Vpišite besedilo odgovora 1',\n 'Do you think that Slovenia works enough to promote collaboration and networking of Slovenian cultural figures abroad?',\n 'By providing financial support to organizations that work with this purpose.',\n 'By providing “moral” support to organizations that work with this purpose.',\n 'By providing adequate information support about the possibilities of collaboration options for Slovenian cultural figures abroad.',\n 'By supporting the organization of events, which enable networking of Slovenian cultural figures abroad.',\n 'By actively participating in the events that enable networking of Slovenian cultural figures around the world.',\n 'By establishing information-communication centers for the purpose of collaboration and networking of Slovenian cultural figures abroad.',\n 'By establishing a database of existing organizations and institutions that work on collaboration and networking of Slovenian cultural figures abroad. The database should be kept up-to-date with activities of such organizations and existing possibilities of collaborations that they offer.',\n 'Other:',\n 'Other:',\n 'Vpišite besedilo',\n 'Vpišite besedilo',\n 'Vpišite besedilo',\n 'Vpišite besedilo',\n 'Do you think Slovenia works enough to form connections between Slovenian cultural figures abroad and their homeland?',\n 'By providing financial support to organizations that work with this purpose.',\n 'By providing “moral” support to organizations that work with this purpose.',\n 'By providing adequate information support about the possibilities of collaboration with Slovenia in the cultural field.',\n 'By supporting the organization of events that open up opportunities for Slovenian cultural figures abroad to collaborate with their homeland.',\n 'By actively participating in the events that open up opportunities for Slovenian cultural figures abroad to collaborate with their homeland.',\n 'By establishing information-communication centers for the purpose of forming and strengthening collaborations between Slovenian cultural figures abroad and their homeland.',\n 'By establishing a database that keeps track of Slovenian cultural figures abroad. The database should also include information about possible collaborations with Slovenia, which should be communicated transparently.',\n 'By offering the possibility of a (partly) financed visit of the homeland for cultural purposes to a specific number of individuals every year or by offering financial help to organizations that already organize such visits.',\n 'Other:',\n 'Other:',\n 'Vpišite besedilo',\n 'Vpišite besedilo',\n 'Vpišite besedilo',\n 'Vpišite besedilo',\n 'Vpišite besedilo odgovora 1',\n 'Do you think that Slovenia works enough to promote collaboration and networking of Slovenian businessmen abroad?',\n 'By providing financial support to organizations that work with this purpose.',\n 'By providing “moral” support to organizations that work with this purpose.',\n 'By providing adequate information support about the possibilities of collaboration options for Slovenian businessmen abroad.',\n 'By supporting the organization of events, which enable networking of Slovenian businessmen abroad.',\n 'By actively participating in the events that enable networking of Slovenian businessmen around the world.',\n 'By establishing information-communication centers for the purpose of collaboration and networking of Slovenian businessmen abroad.',\n 'By establishing a database of existing organizations and institutions that work on collaboration and networking of Slovenian businessmen abroad. The database should be kept up-to-date with activities of such organizations and existing possibilities of collaborations that they offer.',\n 'Other:',\n 'Other:',\n 'Vpišite besedilo',\n 'Vpišite besedilo',\n 'Vpišite besedilo',\n 'Vpišite besedilo',\n 'Do you think Slovenia works enough to form connections between Slovenian businessmen abroad and their homeland?',\n 'By providing financial support to organizations that work with this purpose.',\n 'By providing “moral” support to organizations that work with this purpose.',\n 'By providing adequate information support about the possibilities of collaboration with Slovenia in the business field.',\n 'By supporting the organization of events that open up opportunities for Slovenian businessmen abroad to collaborate with their homeland.',\n 'By actively participating in the events that open up opportunities for Slovenian businessmen abroad to collaborate with their homeland.',\n 'By establishing information-communication centers for the purpose of forming and strengthening collaborations between Slovenian businessmen abroad and their homeland.',\n 'By establishing a database that keeps track of Slovenian businessmen abroad. The database should also include information about possible collaborations with Slovenia, which should be communicated transparently.',\n 'By offering the possibility of a (partly) financed visit of the homeland for business purposes to a specific number of individuals every year or by offering financial help to organizations that already organize such visits.',\n 'By providing (financial) support to individuals who want to found a company with a branch in Slovenia.',\n 'By providing (financial) support to start-up companies of Slovenians in the USA/Canada.',\n 'By promoting Slovenian businessmen that live abroad to companies in Slovenia.',\n 'Other:',\n 'Other:',\n 'Vpišite besedilo',\n 'Vpišite besedilo',\n 'Vpišite besedilo',\n 'Vpišite besedilo',\n 'Vpišite besedilo odgovora 1',\n 'Do you think that your country of current residence (USA/Canada) hosts enough promotional activities for potential investors that would like to enter the Slovenian market or through the Slovenian market to a wider region?',\n 'Vpišite besedilo',\n 'Vpišite besedilo',\n 'Vpišite besedilo',\n 'Vpišite besedilo',\n 'Vpišite besedilo',\n 'Vpišite besedilo',\n 'Vpišite besedilo',\n 'Vpišite besedilo',\n 'Vpišite besedilo',\n 'Vpišite besedilo',\n 'Until now, were you a part of an organization/association/etc. that works on promoting Slovenia to the country where you currently live (USA/Canada)?',\n 'Promotion of studies/education in Slovenia.',\n 'Promotion of Slovenian knowledge and the circulation of knowledge.',\n 'Promotion of Slovenian scientists and scientific achievements.',\n 'Promotion of Slovenian national traditions and habits.',\n 'Promotion of Slovenian language.',\n 'Promotion of Slovenian authors and literature.',\n 'Promotion of Slovenian art.',\n 'Promotion of Slovenian products.',\n 'Promotion of Slovenia as a destination, appropriate to settle and start a family.',\n 'Promotion of possible business and entrepreneurial collaborations.',\n 'Promotion of Slovenia as a tourist destination.',\n 'Other:',\n 'Other:',\n 'Vpišite besedilo',\n 'In the future, would you like to be a part of (any other) organization/association/etc. that works on promoting Slovenia to the country where you currently live (USA/Canada)?',\n 'Do you already know through which organization would you like to work on promotion of Slovenia?',\n 'Yes. Which one?',\n 'Promotion of studies/education in Slovenia.',\n 'Promotion of Slovenian knowledge and the circulation of knowledge.',\n 'Promotion of Slovenian scientists and scientific achievements.',\n 'Promotion of Slovenian national traditions and habits.',\n 'Promotion of Slovenian language.',\n 'Promotion of Slovenian authors and literature.',\n 'Promotion of Slovenian art.',\n 'Promotion of Slovenian products.',\n 'Promotion of Slovenia as a destination, appropriate to settle and start a family.',\n 'Promotion of possible business and entrepreneurial collaborations.',\n 'Promotion of Slovenia as a tourist destination.',\n 'Other:',\n 'Other:',\n 'Vpišite besedilo',\n 'Do you as an individual work on promoting Slovenia?',\n 'Promotion of studies/education in Slovenia.',\n 'Promotion of Slovenian knowledge and the circulation of knowledge.',\n 'Promotion of Slovenian scientists and scientific achievements.',\n 'Promotion of Slovenian national traditions and habits.',\n 'Promotion of Slovenian language.',\n 'Promotion of Slovenian authors and literature.',\n 'Promotion of Slovenian art.',\n 'Promotion of Slovenian products.',\n 'Promotion of Slovenia as a destination, appropriate to settle and start a family.',\n 'Promotion of possible business and entrepreneurial collaborations.',\n 'Promotion of Slovenia as a tourist destination.',\n 'Other:',\n 'Other:',\n 'Would you as an individual like to work on promoting Slovenia in the future (in any other way than you already do)?',\n 'Promotion of studies/education in Slovenia.',\n 'Promotion of Slovenian knowledge and the circulation of knowledge.',\n 'Promotion of Slovenian scientific achievements and scientists.',\n 'Promotion of Slovenian national traditions and habits.',\n 'Promotion of Slovenian language.',\n 'Promotion of Slovenian authors and literature.',\n 'Promotion of Slovenian art.',\n 'Promotion of Slovenian products.',\n 'Promotion of Slovenia as a destination, appropriate to settle and start a family.',\n 'Promotion of possible business and entrepreneurial collaborations.',\n 'Promotion of Slovenia as a tourist destination.',\n 'Other:',\n 'Other:',\n 'Vpišite besedilo']"
     },
     "execution_count": 128,
     "metadata": {},
     "output_type": "execute_result"
    }
   ],
   "source": [
    "# Import Data\n",
    "import pandas as pd\n",
    "import numpy as np\n",
    "dataFrame = pd.read_excel(\"CRP2021_raw_data.xlsx\")\n",
    "# Delete 2nd row (question)\n",
    "question_title_row = list(dataFrame.iloc[0])\n",
    "data = dataFrame.drop([0])"
   ]
  },
  {
   "cell_type": "markdown",
   "source": [
    "# Preprocessing data"
   ],
   "metadata": {
    "collapsed": false
   },
   "id": "df62e7939c041f18"
  },
  {
   "cell_type": "code",
   "execution_count": 105,
   "outputs": [],
   "source": [
    "# remove qualitative data (save NLP for later if time)\n",
    "data = data.drop(columns=[\"Q10_11_text\", \"Q11_9_text\", \"Q12l_text\", \"Q13_6_text\", \"Q17_7_text\", \"Q19g_text\", \"Q67_7_text\", \"Q21g_text\", \"Q23h_text\", \"Q24a\", \"Q24b\", \"Q24c\", \"Q24d\", \"Q26k_text\", \"Q27a\", \"Q27b\", \"Q27c\", \"Q27d\", \"Q29h_text\", \"Q30a\", \"Q30b\", \"Q30c\", \"Q30d\", \"Q32j_text\", \"Q33a\", \"Q33b\", \"Q33c\", \"Q33d\", \"Q40a\", \"Q43h_text\", \"Q44a\", \"Q44b\", \"Q46l_text\", \"Q47a\", \"Q47b\", \"Q50a\", \"Q50b\", \"Q50c\", \"Q50d\", \"Q51a\", \"Q51b\", \"Q51c\", \"Q51d\", \"Q52\", \"Q53\", \"Q53\", \"Q55l_text\", \"Q56\", \"Q58_2_text\", \"Q59l_text\", \"Q60\", \"Q62l_text\", \"Q64l_text\", \"Q65\"])"
   ],
   "metadata": {
    "collapsed": false,
    "ExecuteTime": {
     "end_time": "2024-07-25T17:27:29.362042Z",
     "start_time": "2024-07-25T17:27:29.360133Z"
    }
   },
   "id": "ae0f04ac0dcd0629"
  },
  {
   "cell_type": "code",
   "execution_count": 106,
   "outputs": [
    {
     "data": {
      "text/plain": "(200, 216)"
     },
     "execution_count": 106,
     "metadata": {},
     "output_type": "execute_result"
    }
   ],
   "source": [
    "# Parse all data as numbers\n",
    "for column in data.columns:\n",
    "    data[column] = pd.to_numeric(data[column])\n",
    "# Replace negative numbers with null values\n",
    "data = data.clip(lower=0,)\n",
    "data.shape"
   ],
   "metadata": {
    "collapsed": false,
    "ExecuteTime": {
     "end_time": "2024-07-25T17:27:29.897303Z",
     "start_time": "2024-07-25T17:27:29.891646Z"
    }
   },
   "id": "2b1b33359cadf32d"
  },
  {
   "cell_type": "code",
   "execution_count": null,
   "outputs": [],
   "source": [
    "# Flatten multi-select columns into one CSV column\n",
    "# relate discrete data with survey answers\n",
    "# Will code this once data analysis starts"
   ],
   "metadata": {
    "collapsed": false
   },
   "id": "b57a353b094553c8"
  },
  {
   "cell_type": "markdown",
   "source": [
    "# Finding correlations in data"
   ],
   "metadata": {
    "collapsed": false
   },
   "id": "fa6952695bf29ab9"
  },
  {
   "cell_type": "code",
   "execution_count": 107,
   "outputs": [
    {
     "name": "stderr",
     "output_type": "stream",
     "text": [
      "/Users/carolinemorton/Library/Caches/pypoetry/virtualenvs/crp2021-bpNPsJmt-py3.11/lib/python3.11/site-packages/numpy/lib/_function_base_impl.py:2922: RuntimeWarning: invalid value encountered in divide\n",
      "  c /= stddev[:, None]\n",
      "/Users/carolinemorton/Library/Caches/pypoetry/virtualenvs/crp2021-bpNPsJmt-py3.11/lib/python3.11/site-packages/numpy/lib/_function_base_impl.py:2923: RuntimeWarning: invalid value encountered in divide\n",
      "  c /= stddev[None, :]\n"
     ]
    },
    {
     "data": {
      "text/plain": "array([[ 1.        ,  0.22701095, -0.00574449, ...,  0.05551306,\n         0.0462033 ,  0.0114151 ],\n       [ 0.22701095,  1.        ,  0.16645008, ...,  0.10126657,\n         0.08311889,  0.00826898],\n       [-0.00574449,  0.16645008,  1.        , ...,  0.01236705,\n         0.03320435, -0.05161398],\n       ...,\n       [ 0.05551306,  0.10126657,  0.01236705, ...,  1.        ,\n         0.46045551, -0.05188063],\n       [ 0.0462033 ,  0.08311889,  0.03320435, ...,  0.46045551,\n         1.        ,  0.08866281],\n       [ 0.0114151 ,  0.00826898, -0.05161398, ..., -0.05188063,\n         0.08866281,  1.        ]])"
     },
     "execution_count": 107,
     "metadata": {},
     "output_type": "execute_result"
    }
   ],
   "source": [
    "# calculate the covariance matrix\n",
    "# there are 216 variables, so this will be of shape (216, 216). Each point is how much one variable correlates to another (scale between -1 and 1 inclusive).\n",
    "# The main diagonal corresponds to the correlation of each variable to itself, so all values will be 1.\n",
    "# The higher the absolute value (outside the main diagonal), the higher the chance of a meaningful variable causation\n",
    "cov_mat = np.corrcoef(data, rowvar=False)\n",
    "cov_mat"
   ],
   "metadata": {
    "collapsed": false,
    "ExecuteTime": {
     "end_time": "2024-07-25T17:27:30.450050Z",
     "start_time": "2024-07-25T17:27:30.404177Z"
    }
   },
   "id": "c52a83213b566fa1"
  },
  {
   "cell_type": "code",
   "execution_count": 140,
   "outputs": [
    {
     "data": {
      "text/plain": "array([('Q36h_text Other:', 'Q39i_text Other:', 1.00000000e+00),\n       ('Q29c By providing adequate information support about the possibilities of collaboration options for Slovenian intellectuals abroad (e.g., in the field of science and education).', 'Q35 Do you think that Slovenia works enough to promote collaboration and networking of Slovenian cultural figures abroad?', 9.89428879e-01),\n       ('Q24d Vpišite besedilo', 'Q26h By supporting the academic exchange of knowledge, for example by financing joint research of Slovenian and foreign universities, opening up the possibilities of guest lectures at Slovenian universities etc.', 9.74679602e-01),\n       ...,\n       ('Q1k Buying and using Slovenian products', 'Q23c By providing adequate information support about the possibilities of collaboration and networking of Slovenians abroad on different fields.', 1.74346269e-19),\n       ('Q12l_text Other organizations in my country of residence that connect Slovenians abroad. Which one?', 'Q43h_text Other:', 1.11161341e-19),\n       ('Q1k Buying and using Slovenian products', 'Q14d None of the above', 0.00000000e+00)],\n      dtype=[('between_1', '<U300'), ('between_2', '<U300'), ('score', '<f8')])"
     },
     "execution_count": 140,
     "metadata": {},
     "output_type": "execute_result"
    }
   ],
   "source": [
    "# Find the highest correlations\n",
    "\n",
    "best_correlations = []\n",
    "seen_pairs = []\n",
    "for row_index, row in enumerate(cov_mat):\n",
    "    for col_index, score in enumerate(row):\n",
    "        if col_index == row_index:\n",
    "            # we are on the main diagonal, so ignore this element\n",
    "            continue\n",
    "            \n",
    "        if np.isnan(score):\n",
    "            # Some scores are nan (e.g. if a text variable is involved)\n",
    "            continue\n",
    "            \n",
    "        row_name = data.columns[row_index]\n",
    "        row_desc = question_title_row[row_index]\n",
    "        if isinstance(row_desc, str):\n",
    "            row_name +=  \" \" +row_desc\n",
    "        col_name = data.columns[col_index]\n",
    "        col_desc = question_title_row[col_index]\n",
    "        if isinstance(col_desc, str):\n",
    "            col_name += \" \" + col_desc\n",
    "        \n",
    "        skip = False\n",
    "        for b1, b2, _ in best_correlations:\n",
    "            if (row_name == b1 and col_name == b2) or (row_name == b2 and col_name == b1):\n",
    "                # deduplicate data points\n",
    "                skip = True\n",
    "                break\n",
    "        if skip:\n",
    "            continue\n",
    "            \n",
    "        best_correlations.append((row_name, col_name, np.abs(score)))\n",
    "        \n",
    "best_correlations_dtype = [('between_1', \"U300\"), (\"between_2\", \"U300\"), (\"score\", float)]\n",
    "best_correlations = np.array(best_correlations, dtype=best_correlations_dtype)\n",
    "best_correlations = np.sort(best_correlations, order=\"score\")\n",
    "best_correlations = np.flip(best_correlations)\n",
    "best_correlations"
   ],
   "metadata": {
    "collapsed": false,
    "ExecuteTime": {
     "end_time": "2024-07-26T17:27:01.905886Z",
     "start_time": "2024-07-26T17:26:36.644178Z"
    }
   },
   "id": "15b32440b24dbde4"
  }
 ],
 "metadata": {
  "kernelspec": {
   "display_name": "Python 3",
   "language": "python",
   "name": "python3"
  },
  "language_info": {
   "codemirror_mode": {
    "name": "ipython",
    "version": 2
   },
   "file_extension": ".py",
   "mimetype": "text/x-python",
   "name": "python",
   "nbconvert_exporter": "python",
   "pygments_lexer": "ipython2",
   "version": "2.7.6"
  }
 },
 "nbformat": 4,
 "nbformat_minor": 5
}
