{
 "cells": [
  {
   "cell_type": "code",
   "execution_count": 78,
   "id": "initial_id",
   "metadata": {
    "collapsed": true,
    "ExecuteTime": {
     "end_time": "2024-07-18T10:30:03.882462Z",
     "start_time": "2024-07-18T10:30:03.571256Z"
    }
   },
   "outputs": [],
   "source": [
    "# Import Data\n",
    "import pandas as pd\n",
    "import numpy as np\n",
    "dataFrame = pd.read_excel(\"CRP2021_raw_data.xlsx\")\n",
    "# Delete 2nd row (question)\n",
    "data = dataFrame.drop([0])"
   ]
  },
  {
   "cell_type": "code",
   "execution_count": 79,
   "outputs": [],
   "source": [
    "# remove qualitative data (save NLP for later if time)\n",
    "data = data.drop(columns=[\"Q10_11_text\", \"Q11_9_text\", \"Q12l_text\", \"Q13_6_text\", \"Q17_7_text\", \"Q19g_text\", \"Q67_7_text\", \"Q21g_text\", \"Q23h_text\", \"Q24a\", \"Q24b\", \"Q24c\", \"Q24d\", \"Q26k_text\", \"Q27a\", \"Q27b\", \"Q27c\", \"Q27d\", \"Q29h_text\", \"Q30a\", \"Q30b\", \"Q30c\", \"Q30d\", \"Q32j_text\", \"Q33a\", \"Q33b\", \"Q33c\", \"Q33d\", \"Q40a\", \"Q43h_text\", \"Q44a\", \"Q44b\", \"Q46l_text\", \"Q47a\", \"Q47b\", \"Q50a\", \"Q50b\", \"Q50c\", \"Q50d\", \"Q51a\", \"Q51b\", \"Q51c\", \"Q51d\", \"Q52\", \"Q53\", \"Q53\", \"Q55l_text\", \"Q56\", \"Q58_2_text\", \"Q59l_text\", \"Q60\", \"Q62l_text\", \"Q64l_text\", \"Q65\"])"
   ],
   "metadata": {
    "collapsed": false,
    "ExecuteTime": {
     "end_time": "2024-07-18T10:30:03.895195Z",
     "start_time": "2024-07-18T10:30:03.891677Z"
    }
   },
   "id": "ae0f04ac0dcd0629"
  },
  {
   "cell_type": "code",
   "execution_count": 80,
   "outputs": [],
   "source": [
    "# Parse all data as numbers\n",
    "for column in data.columns:\n",
    "    data[column] = pd.to_numeric(data[column])\n",
    "# Replace negative numbers with null values\n",
    "data = data.clip(lower=0,)\n",
    "# replace booleans with pandas booleans\n",
    "data = data.replace(0, np.nan)"
   ],
   "metadata": {
    "collapsed": false,
    "ExecuteTime": {
     "end_time": "2024-07-18T10:30:04.041288Z",
     "start_time": "2024-07-18T10:30:03.901048Z"
    }
   },
   "id": "2b1b33359cadf32d"
  },
  {
   "cell_type": "code",
   "execution_count": 81,
   "outputs": [],
   "source": [
    "# Flatten multi-select columns into one CSV column\n",
    "# relate discrete data with survey answers\n",
    "# Will code this once data analysis starts"
   ],
   "metadata": {
    "collapsed": false,
    "ExecuteTime": {
     "end_time": "2024-07-18T10:30:04.043889Z",
     "start_time": "2024-07-18T10:30:04.041503Z"
    }
   },
   "id": "e95d61405c20c5f1"
  }
 ],
 "metadata": {
  "kernelspec": {
   "display_name": "Python 3",
   "language": "python",
   "name": "python3"
  },
  "language_info": {
   "codemirror_mode": {
    "name": "ipython",
    "version": 2
   },
   "file_extension": ".py",
   "mimetype": "text/x-python",
   "name": "python",
   "nbconvert_exporter": "python",
   "pygments_lexer": "ipython2",
   "version": "2.7.6"
  }
 },
 "nbformat": 4,
 "nbformat_minor": 5
}
